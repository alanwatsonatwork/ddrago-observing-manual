{
 "cells": [
  {
   "cell_type": "markdown",
   "id": "08c398dc",
   "metadata": {},
   "source": [
    "# Zero Points\n",
    "\n",
    "Zero points determined by running STDWeb with the FWHM set to 3, the aperture set to 3*FWHM, and the zero-point spatial order set to 0, and a mask that covers the central 1/3 of the field (linear)\n",
    "\n",
    "The ZPs are 2.5*log(DN/s) for a 0 mag source. They are:\n",
    "\n",
    "  ZP(STDWeb) - 2.5 * log(EXPTIME)\n",
    "\n",
    "The ZPs in e are converted with gains of 2.2 for C1 and 2.1 for C2."
   ]
  },
  {
   "cell_type": "code",
   "execution_count": 1,
   "id": "6c90a3e6",
   "metadata": {},
   "outputs": [],
   "source": [
    "import numpy as np\n",
    "import matplotlib.pyplot as plt"
   ]
  },
  {
   "cell_type": "code",
   "execution_count": 14,
   "id": "b521424d",
   "metadata": {},
   "outputs": [],
   "source": [
    "filter = [\n",
    "    \"B\", \"g\", \"r\", \"i\", \"gri\", \"z\", \"y\", \"zy\"\n",
    "]\n",
    "wavelengthS = np.array([\n",
    "    386.6,\n",
    "    397.0,\n",
    "    553.5,\n",
    "    690.4,\n",
    "    399.1,\n",
    "    825.9,\n",
    "    917.8,\n",
    "    826.7,\n",
    "])\n",
    "wavelengthS = np.array([\n",
    "    486.3,\n",
    "    549.1,\n",
    "    694.7,\n",
    "    812.1,\n",
    "    811.6,\n",
    "    915.1,\n",
    "    972.8,\n",
    "    939.7,\n",
    "])\n",
    "gain = np.array([2.2, 2.2, 2.2, 2.2, 2.2, 2.1, 2.1, 2.1])"
   ]
  },
  {
   "cell_type": "markdown",
   "id": "8670477d",
   "metadata": {},
   "source": [
    "# 2025-09-10\n",
    "\n",
    "20250910T051933C1o to 20250910T052417C2o\n"
   ]
  },
  {
   "cell_type": "code",
   "execution_count": 15,
   "id": "8262fe2d",
   "metadata": {},
   "outputs": [
    {
     "name": "stdout",
     "output_type": "stream",
     "text": [
      "B    22.64 2.5e+09\n",
      "g    23.46 5.3e+09\n",
      "r    23.39 5.0e+09\n",
      "i    22.97 3.4e+09\n",
      "gri  24.40 1.3e+10\n",
      "z    22.16 1.5e+09\n",
      "y    21.37 7.4e+08\n",
      "zy   22.54 2.2e+09\n"
     ]
    }
   ],
   "source": [
    "rawZP = np.array([\n",
    "    27.09,\n",
    "    27.91,\n",
    "    27.84,\n",
    "    27.42,\n",
    "    28.85,\n",
    "    26.61,\n",
    "    25.82,\n",
    "    26.99,\n",
    "])\n",
    "\n",
    "ZPDN = rawZP - 2.5 * np.log10(60)\n",
    "ZPe = gain * 10 ** (0.4 * ZPDN)\n",
    "for filter, ZPDN, ZPe in zip(filter, ZPDN, ZPe):\n",
    "    print(\"%-4.4s %.2f %.1e\" % (filter, ZPDN, ZPe))"
   ]
  },
  {
   "cell_type": "code",
   "execution_count": null,
   "id": "9de2b07f",
   "metadata": {},
   "outputs": [],
   "source": []
  }
 ],
 "metadata": {
  "kernelspec": {
   "display_name": "astronomy",
   "language": "python",
   "name": "python3"
  },
  "language_info": {
   "codemirror_mode": {
    "name": "ipython",
    "version": 3
   },
   "file_extension": ".py",
   "mimetype": "text/x-python",
   "name": "python",
   "nbconvert_exporter": "python",
   "pygments_lexer": "ipython3",
   "version": "3.13.2"
  }
 },
 "nbformat": 4,
 "nbformat_minor": 5
}
